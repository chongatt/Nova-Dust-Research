{
 "cells": [
  {
   "cell_type": "code",
   "execution_count": 1,
   "id": "04918a75-f104-4ebf-9bb0-06d1f086733b",
   "metadata": {},
   "outputs": [],
   "source": [
    "import matplotlib\n",
    "import matplotlib.pyplot as plt\n",
    "import matplotlib.axes as pltax\n",
    "import numpy as np\n",
    "import pandas as pd\n",
    "import matplotlib.colors as colors\n",
    "import math\n",
    "from scipy.optimize import curve_fit\n",
    "from scipy import optimize as opt\n",
    "import os\n",
    "import astropy as ast\n",
    "import pandas as pd\n",
    "import statistics as stat\n",
    "pd.set_option('display.max_rows',100)\n",
    "pd.set_option('display.max_columns',100)\n",
    "%matplotlib inline"
   ]
  },
  {
   "cell_type": "code",
   "execution_count": 2,
   "id": "6d55b201-657a-4029-9b2a-0f587866959f",
   "metadata": {},
   "outputs": [],
   "source": [
    "#block from https://stackoverflow.com/questions/58108964/how-to-open-multiple-files-in-loop-in-python\n",
    "folderpath=r\"C:\\Users\\Atticus Chong\\OneDrive\\Documents\\Summer_Internship_2021\\AAVSO_Photometry\" # make sure to put the 'r' in front\n",
    "filepaths =[os.path.join(folderpath,name) for name in os.listdir(folderpath)]\n",
    "files=[]\n",
    "filenames=[]\n",
    "\n",
    "for path in filepaths:\n",
    "    with open(path,'r') as f:\n",
    "        #name list=filenames\n",
    "        filename=str(f)\n",
    "        filename=filename.lstrip(\"<_io.TextIOWrapper name='C:\\\\\\\\Users\\\\\\\\Atticus Chong\\\\\\\\OneDrive\\\\\\\\Documents\\\\\\\\Summer_Internship_2021\\\\\\\\\")\n",
    "        filename=filename.lstrip(\"AAVSO_Photometry\")\n",
    "        filename=filename.lstrip(\"\\\\\\\\\")                #strip function was being annoying and sometimes removing letters at the beginning of the filename so I had to split up the strips\n",
    "        filename=filename.rstrip(\"' mode='r' encoding='cp1252'>\")\n",
    "        filenames.append(filename)\n",
    "        #data list=files\n",
    "        file=np.loadtxt(path,dtype=object,delimiter=',',skiprows=1,usecols=[0,1,2,4],unpack=True) #0=JD,1=Mag,2=Uncertainty,4=Band\n",
    "        files.append(file)"
   ]
  },
  {
   "cell_type": "code",
   "execution_count": 3,
   "id": "77c74126-c6b4-4fa2-8158-3712b0fcf81d",
   "metadata": {},
   "outputs": [],
   "source": [
    "filelist=list(zip(filenames,files))"
   ]
  },
  {
   "cell_type": "code",
   "execution_count": 5,
   "id": "ccefbc4b-9ac8-44db-8a57-fd231af42cfb",
   "metadata": {},
   "outputs": [],
   "source": [
    "for file in filelist:\n",
    "    newfile=np.transpose(file[1][:,np.sort(np.append(np.where(file[1][3]=='V')[0],np.where(file[1][3]=='CV')[0]))])\n",
    "    newfilename=(file[0].rstrip('dirty.csv')).rstrip('_')+'.txt'\n",
    "    np.savetxt(r\"C:\\Users\\Atticus Chong\\OneDrive\\Documents\\Summer_Internship_2021\\AAVSO_Photometry_clean\\%s\" % newfilename,newfile,delimiter=',',fmt='%s')"
   ]
  },
  {
   "cell_type": "code",
   "execution_count": null,
   "id": "6b199ad9-7fb8-427b-8e8f-d96c3eecec3d",
   "metadata": {},
   "outputs": [],
   "source": []
  }
 ],
 "metadata": {
  "kernelspec": {
   "display_name": "Python 3 (ipykernel)",
   "language": "python",
   "name": "python3"
  },
  "language_info": {
   "codemirror_mode": {
    "name": "ipython",
    "version": 3
   },
   "file_extension": ".py",
   "mimetype": "text/x-python",
   "name": "python",
   "nbconvert_exporter": "python",
   "pygments_lexer": "ipython3",
   "version": "3.8.11"
  }
 },
 "nbformat": 4,
 "nbformat_minor": 5
}
